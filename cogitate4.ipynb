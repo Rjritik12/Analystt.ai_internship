{
  "nbformat": 4,
  "nbformat_minor": 0,
  "metadata": {
    "colab": {
      "provenance": [],
      "authorship_tag": "ABX9TyNbRmFYtqMJoOi3eUgnkUaG",
      "include_colab_link": true
    },
    "kernelspec": {
      "name": "python3",
      "display_name": "Python 3"
    },
    "language_info": {
      "name": "python"
    }
  },
  "cells": [
    {
      "cell_type": "markdown",
      "metadata": {
        "id": "view-in-github",
        "colab_type": "text"
      },
      "source": [
        "<a href=\"https://colab.research.google.com/github/Rjritik12/Analystt.ai_internship/blob/main/cogitate4.ipynb\" target=\"_parent\"><img src=\"https://colab.research.google.com/assets/colab-badge.svg\" alt=\"Open In Colab\"/></a>"
      ]
    },
    {
      "cell_type": "code",
      "execution_count": 6,
      "metadata": {
        "id": "OWoN8iO-mlsl"
      },
      "outputs": [],
      "source": [
        "from bs4 import BeautifulSoup\n",
        "import requests\n",
        "import pandas as pd\n",
        "import numpy as np"
      ]
    },
    {
      "source": [
        "import requests\n",
        "from bs4 import BeautifulSoup\n",
        "from PIL import Image\n",
        "from io import BytesIO\n",
        "import numpy as np\n",
        "\n",
        "def extract_logo(url):\n",
        "    response = requests.get(url)\n",
        "    soup = BeautifulSoup(response.text, 'html.parser')\n",
        "    logo_tag = soup.find('img', {'class': 'logo'})\n",
        "    # Check if a logo tag was found before accessing 'src'\n",
        "    if logo_tag:\n",
        "        logo_url = logo_tag['src']\n",
        "        return logo_url\n",
        "    else:\n",
        "        return None # Return None if no logo is found\n",
        "\n",
        "def extract_primary_colors(url):\n",
        "    response = requests.get(url)\n",
        "    soup = BeautifulSoup(response.text, 'html.parser')\n",
        "    colors = []\n",
        "    for tag in soup.find_all(['h1', 'h2', 'h3', 'h4', 'h5', 'h6', 'p', 'a']):\n",
        "        color = tag.get('style')\n",
        "        if color:\n",
        "            colors.append(color.split(':')[1].strip())\n",
        "    return list(set(colors))\n",
        "\n",
        "def extract_button_colors(url):\n",
        "    response = requests.get(url)\n",
        "    soup = BeautifulSoup(response.text, 'html.parser')\n",
        "    colors = []\n",
        "    for tag in soup.find_all('button'):\n",
        "        color = tag.get('style')\n",
        "        if color:\n",
        "            colors.append(color.split(':')[1].strip())\n",
        "    return list(set(colors))\n",
        "\n",
        "def recommend_button_color(primary_colors, button_colors):\n",
        "    # Simple recommendation algorithm: choose a color that is not already used\n",
        "    for color in primary_colors + button_colors:\n",
        "        if color not in primary_colors and color not in button_colors:\n",
        "            return color\n",
        "    return '#28a745'  # default recommendation\n",
        "\n",
        "def main(url):\n",
        "    logo_url = extract_logo(url)\n",
        "    primary_colors = extract_primary_colors(url)\n",
        "    button_colors = extract_button_colors(url)\n",
        "    recommended_button_color = recommend_button_color(primary_colors, button_colors)\n",
        "    return {\n",
        "        'logo_url': logo_url,\n",
        "        'primary_colors': primary_colors,\n",
        "        'button_colors': button_colors,\n",
        "        'recommended_button_color': recommended_button_color\n",
        "    }\n",
        "\n",
        "if __name__ == '__main__':\n",
        "    url = input('Enter a URL: ')\n",
        "    result = main(url)\n",
        "    print('Logo URL:', result['logo_url'])\n",
        "    print('Primary Colors:', result['primary_colors'])\n",
        "    print('Button Colors:', result['button_colors'])\n",
        "    print('Recommended Button Color:', result['recommended_button_color'])"
      ],
      "cell_type": "code",
      "metadata": {
        "colab": {
          "base_uri": "https://localhost:8080/"
        },
        "id": "UtH0nJF-u_sN",
        "outputId": "9a5a35c7-3176-4cf6-c7fb-a5c2d5d86e04"
      },
      "execution_count": 18,
      "outputs": [
        {
          "output_type": "stream",
          "name": "stdout",
          "text": [
            "Enter a URL: https://www.amazon.com/\n",
            "Logo URL: None\n",
            "Primary Colors: []\n",
            "Button Colors: []\n",
            "Recommended Button Color: #28a745\n"
          ]
        }
      ]
    },
    {
      "cell_type": "code",
      "source": [],
      "metadata": {
        "id": "nkHUD0RMugyW"
      },
      "execution_count": 17,
      "outputs": []
    }
  ]
}