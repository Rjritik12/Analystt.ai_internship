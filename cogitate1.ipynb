{
  "nbformat": 4,
  "nbformat_minor": 0,
  "metadata": {
    "colab": {
      "provenance": [],
      "authorship_tag": "ABX9TyPbL7Aq6BhwJ5JxkpmeIte0",
      "include_colab_link": true
    },
    "kernelspec": {
      "name": "python3",
      "display_name": "Python 3"
    },
    "language_info": {
      "name": "python"
    }
  },
  "cells": [
    {
      "cell_type": "markdown",
      "metadata": {
        "id": "view-in-github",
        "colab_type": "text"
      },
      "source": [
        "<a href=\"https://colab.research.google.com/github/Rjritik12/COGITATE_TASKS/blob/main/cogitate1.ipynb\" target=\"_parent\"><img src=\"https://colab.research.google.com/assets/colab-badge.svg\" alt=\"Open In Colab\"/></a>"
      ]
    },
    {
      "cell_type": "code",
      "source": [
        "import pandas as pd\n",
        "\n",
        "students = pd.DataFrame({\n",
        "    'ID': [1, 2, 3],\n",
        "    'Name': ['Ashley', 'Samantha', 'Julia']\n",
        "})\n",
        "\n",
        "friends = pd.DataFrame({\n",
        "    'ID': [1, 2, 3],\n",
        "    'Friend_ID': [2, 3, None]\n",
        "})\n",
        "\n",
        "packages = pd.DataFrame({\n",
        "    'ID': [1, 2, 3, 4],\n",
        "    'Salary': [15.2, 10.06, 11.55, 12.12]\n",
        "})\n",
        "\n",
        "# Merge students and friends tables on ID\n",
        "students_friends = pd.merge(students, friends, on='ID', how='left')\n",
        "\n",
        "# Merge the result with packages table on ID\n",
        "students_friends_packages = pd.merge(students_friends, packages, on='ID', how='left')\n",
        "\n",
        "# Merge the result with packages table on Friend_ID\n",
        "students_friends_packages_friends = pd.merge(students_friends_packages, packages, left_on='Friend_ID', right_on='ID', how='left', suffixes=('', '_friend'))\n",
        "\n",
        "# Filter results to only include students whose friends got offered a higher salary than them\n",
        "result = students_friends_packages_friends[students_friends_packages_friends['Salary'] < students_friends_packages_friends['Salary_friend']]\n",
        "\n",
        "# Sort the results by the salary amount offered to the best friends\n",
        "result = result.sort_values('Salary_friend')\n",
        "\n",
        "# Print the result\n",
        "print(result['Name'])"
      ],
      "metadata": {
        "colab": {
          "base_uri": "https://localhost:8080/"
        },
        "id": "nRDVLjQGzP5q",
        "outputId": "797af795-b037-4061-f8de-29c6aa9ee137"
      },
      "execution_count": 3,
      "outputs": [
        {
          "output_type": "stream",
          "name": "stdout",
          "text": [
            "1    Samantha\n",
            "Name: Name, dtype: object\n"
          ]
        }
      ]
    },
    {
      "cell_type": "code",
      "source": [
        "SELECT s.Name\n",
        "FROM Students s\n",
        "JOIN Friends f ON s.ID = f.ID\n",
        "JOIN Packages p ON s.ID = p.ID\n",
        "JOIN Packages pf ON f.Friend_ID = pf.ID\n",
        "WHERE pf.Salary > p.Salary\n",
        "ORDER BY pf.Salary;"
      ],
      "metadata": {
        "id": "VtYGYcVvz95W"
      },
      "execution_count": null,
      "outputs": []
    }
  ]
}