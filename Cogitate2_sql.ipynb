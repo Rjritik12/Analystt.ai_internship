{
  "nbformat": 4,
  "nbformat_minor": 0,
  "metadata": {
    "colab": {
      "provenance": [],
      "authorship_tag": "ABX9TyPnRpg8e1V0oZvRUgfTivqk",
      "include_colab_link": true
    },
    "kernelspec": {
      "name": "python3",
      "display_name": "Python 3"
    },
    "language_info": {
      "name": "python"
    }
  },
  "cells": [
    {
      "cell_type": "markdown",
      "metadata": {
        "id": "view-in-github",
        "colab_type": "text"
      },
      "source": [
        "<a href=\"https://colab.research.google.com/github/Rjritik12/COGITATE_TASKS/blob/main/Cogitate2_sql.ipynb\" target=\"_parent\"><img src=\"https://colab.research.google.com/assets/colab-badge.svg\" alt=\"Open In Colab\"/></a>"
      ]
    },
    {
      "cell_type": "code",
      "source": [
        "\n",
        "UPDATE student_table\n",
        "SET Name = CASE\n",
        "    WHEN ID % 2 = 1 THEN Marks\n",
        "    ELSE Name\n",
        "    END,\n",
        "    Marks = CASE\n",
        "    WHEN ID % 2 = 0 THEN Name\n",
        "    ELSE Marks\n",
        "    END;\n",
        "\n",
        "-- Output:\n",
        "-- ID  Name  Marks\n",
        "-- 1   80    John\n",
        "-- 2   Mary  75\n",
        "-- 3   90    Peter\n",
        "-- 4   Alice 85\n"
      ],
      "metadata": {
        "id": "C6H-sGsM4K3q"
      },
      "execution_count": null,
      "outputs": []
    },
    {
      "cell_type": "code",
      "source": [
        "CREATE TABLE student_table (\n",
        "    ID INT,\n",
        "    Name VARCHAR(50),\n",
        "    Marks VARCHAR(50)\n",
        ");\n",
        "\n",
        "INSERT INTO student_table (ID, Name, Marks)\n",
        "VALUES\n",
        "    (1, 'John', '80'),\n",
        "    (2, '75', 'Mary'),\n",
        "    (3, 'Peter', '90'),\n",
        "    (4, '85', 'Alice');\n",
        "\n",
        "UPDATE student_table\n",
        "SET Name = CASE\n",
        "    WHEN ID % 2 = 1 THEN Marks\n",
        "    ELSE Name\n",
        "    END,\n",
        "    Marks = CASE\n",
        "    WHEN ID % 2 = 0 THEN Name\n",
        "    ELSE Marks\n",
        "    END;\n",
        "\n",
        "SELECT * FROM student_table;"
      ],
      "metadata": {
        "id": "FibtQ6jr4Nvz"
      },
      "execution_count": null,
      "outputs": []
    },
    {
      "cell_type": "code",
      "source": [
        "import sqlite3\n",
        "\n",
        "# Create a connection to the SQLite database\n",
        "conn = sqlite3.connect('student_database.db')\n",
        "cursor = conn.cursor()\n",
        "\n",
        "# Create the student_table\n",
        "cursor.execute('''\n",
        "    CREATE TABLE IF NOT EXISTS student_table (\n",
        "        ID INTEGER,\n",
        "        Name TEXT,\n",
        "        Marks TEXT\n",
        "    )\n",
        "''')\n",
        "\n",
        "# Insert sample data into the table\n",
        "cursor.execute('''\n",
        "    INSERT INTO student_table (ID, Name, Marks)\n",
        "    VALUES\n",
        "        (1, 'John', '80'),\n",
        "        (2, '75', 'Mary'),\n",
        "        (3, 'Peter', '90'),\n",
        "        (4, '85', 'Alice')\n",
        "''')\n",
        "\n",
        "# Commit the changes\n",
        "conn.commit()\n",
        "\n",
        "# Update the table to swap Name and Marks values based on ID parity\n",
        "cursor.execute('''\n",
        "    UPDATE student_table\n",
        "    SET Name = CASE\n",
        "        WHEN ID % 2 = 1 THEN Marks\n",
        "        ELSE Name\n",
        "    END,\n",
        "    Marks = CASE\n",
        "        WHEN ID % 2 = 0 THEN Name\n",
        "        ELSE Marks\n",
        "    END\n",
        "''')\n",
        "\n",
        "# Commit the changes\n",
        "conn.commit()\n",
        "\n",
        "# Fetch and print the updated data\n",
        "cursor.execute('SELECT * FROM student_table')\n",
        "rows = cursor.fetchall()\n",
        "for row in rows:\n",
        "    print(row)\n",
        "\n",
        "# Close the connection\n",
        "conn.close()"
      ],
      "metadata": {
        "colab": {
          "base_uri": "https://localhost:8080/"
        },
        "id": "O1SjGR4-3IKu",
        "outputId": "c893ab51-510d-4abf-d3df-a14661017911"
      },
      "execution_count": 9,
      "outputs": [
        {
          "output_type": "stream",
          "name": "stdout",
          "text": [
            "(1, '80', '80')\n",
            "(2, '75', '75')\n",
            "(3, '90', '90')\n",
            "(4, '85', '85')\n"
          ]
        }
      ]
    },
    {
      "cell_type": "code",
      "source": [],
      "metadata": {
        "id": "U1ujiYiU3Soi"
      },
      "execution_count": null,
      "outputs": []
    }
  ]
}